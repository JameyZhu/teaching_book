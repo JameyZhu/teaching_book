{
 "cells": [
  {
   "cell_type": "markdown",
   "metadata": {},
   "source": [
    "# Python Tutorial {#python_tutorial}\n",
    "- 本教程默认使用**python3**\n",
    "- **强烈建议** 安装好Anaconda，下载本教程的.ipynb文件[python_tutorial.ipynb](./python_tutorial.ipynb)，使用jupyter notebook打开并运行。"
   ]
  },
  {
   "cell_type": "markdown",
   "metadata": {},
   "source": [
    "![life_is_short](assets/life_is_short.png)"
   ]
  },
  {
   "cell_type": "markdown",
   "metadata": {},
   "source": [
    "## Anaconda 和 jupyter"
   ]
  },
  {
   "cell_type": "markdown",
   "metadata": {},
   "source": [
    "### Anaconda\n",
    "\n",
    "* 可以轻松的使用Anaconda管理和安装python的包（with `conda`），且包含一些非常有用的工具如jupyter notebook\n",
    "* [官网下载地址](https://www.anaconda.com/download/)，也可以在TUNA镜像站[免流量下载Anaconda](https://mirrors.tuna.tsinghua.edu.cn/anaconda/archive/)\n",
    "\n",
    "Operating System | Download Link | Notes\n",
    "--- | --- | ---\n",
    "Mac | [Anaconda3-5.2.0-MacOSX-x86_64.pkg](https://mirrors.tuna.tsinghua.edu.cn/anaconda/archive/Anaconda3-5.2.0-MacOSX-x86_64.pkg) | \n",
    "Linux | [Anaconda3-5.2.0-Linux-x86_64.sh](https://mirrors.tuna.tsinghua.edu.cn/anaconda/archive/Anaconda3-5.2.0-Linux-x86_64.sh) | 注意需要添加环境变量\n",
    "Windows | [Anaconda3-5.2.0-Windows-x86_64.exe](https://mirrors.tuna.tsinghua.edu.cn/anaconda/archive/Anaconda3-5.2.0-Windows-x86_64.exe) | "
   ]
  },
  {
   "cell_type": "markdown",
   "metadata": {},
   "source": [
    "![anaconda_packages](assets/anaconda_packages.png)"
   ]
  },
  {
   "cell_type": "markdown",
   "metadata": {},
   "source": [
    "用`conda`安装python package，以`h5py`为例:\n",
    "```bash\n",
    "conda install h5py\n",
    "```\n",
    "\n",
    "用`conda`更新`h5py`至最新版本:\n",
    "```bash\n",
    "conda update h5py\n",
    "```\n",
    "\n",
    "安装conda时也自动安装了pip，pip也是一个用来安装和管理python包的工具，用`pip`安装python package，以`h5py`为例:\n",
    "```bash\n",
    "pip install h5py\n",
    "```\n",
    "\n",
    "用`pip`更新`h5py`至最新版本:\n",
    "```bash\n",
    "pip install --upgrade h5py\n",
    "```"
   ]
  },
  {
   "cell_type": "markdown",
   "metadata": {},
   "source": [
    "### jupyter notebook\n",
    "URL: (http://jupyter.org/)\n",
    "\n",
    "是一款基于浏览器的交互性极强的python开发环境，在科研和工业界都广泛使用，可以帮助使用者方便的可视化结果，快速书写和调整代码，**非常推荐使用**"
   ]
  },
  {
   "cell_type": "markdown",
   "metadata": {},
   "source": [
    "**打开 jupyter notebook**\n",
    "\n",
    "```bash\n",
    "jupyter notebook --no-browser\n",
    "```\n",
    "\n",
    "或者使用软件版的Anaconda中集成的jupyter软件打开。\n",
    "\n",
    "**Jupyter notebooks manager**\n",
    "\n",
    "![jupyter_main](assets/jupyter_main.png)\n",
    "\n",
    "\n",
    "**Jupyter notebook**\n",
    "\n",
    "![jupyter_notebook](assets/jupyter_notebook.png)\n",
    "\n",
    "**方便的可视化（与matplotlib，seaborn等配合）**\n",
    "\n",
    "![jupyter_matplotlib](assets/jupyter_matplotlib.png)\n",
    "\n",
    "\n",
    "**展示图片**\n",
    "\n",
    "![jupyter_image](assets/jupyter_image.png)\n",
    "\n",
    "**展示dataframe（与pandas配合）**\n",
    "\n",
    "![jupyter_dataframe](assets/jupyter_dataframe.png)\n",
    "\n",
    "\n",
    "**支持markdown**\n",
    "\n",
    "![jupyter_markdown](assets/jupyter_markdown.png)"
   ]
  },
  {
   "cell_type": "markdown",
   "metadata": {},
   "source": [
    "#### jupyter基本用法：\n",
    "- 保存，增加，删除，复制，粘贴代码框，上下移动代码框，运行，终止代码框，重启kernel（将会**清空内存**），切换代码框版式\n",
    "- 使用shift+enter运行代码框，使用enter换行\n",
    "- 可以搭配插件nbextenstion使用，提供更多功能，用法：\n",
    "\n",
    "```\n",
    "pip install jupyter_contrib_nbextensions\n",
    "jupyter contrib nbextension install --user\n",
    "```"
   ]
  },
  {
   "cell_type": "markdown",
   "metadata": {},
   "source": [
    "# Basic "
   ]
  },
  {
   "cell_type": "markdown",
   "metadata": {},
   "source": [
    "## python语法规范\n",
    "python非常注意规范的书写语法，以缩进为例，python强制要求使用tabs/spaces来缩进。推荐使用tab或四个空格来缩进。\n",
    "```python\n",
    "# use a tab\n",
    "for i in range(3):\n",
    "    print(i)\n",
    "# use 2 spaces\n",
    "for i in range(3):\n",
    "  print(i)\n",
    "# use 4 spaces\n",
    "for i in range(3):\n",
    "    print(i)\n",
    "```"
   ]
  },
  {
   "cell_type": "markdown",
   "metadata": {},
   "source": [
    "## 在终端运行python脚本\n",
    "创建一个python脚本`welcome.py`\n",
    "```python\n",
    "print('welcome to python!')\n",
    "```\n",
    "\n",
    "在相同目录下运行:\n",
    "```bash\n",
    "chmod +x welcome.py  #set the python script as executable\n",
    "python welcome.py    #use python to run welcome.py\n",
    "```\n",
    "\n",
    "用shebang符号可以不需要指明python解释器，即在python脚本的第一行添加`#! /usr/bin/env python`\n",
    "```python\n",
    "#! /usr/bin/env python\n",
    "# -*- coding: UTF-8 -*-\n",
    "print('welcome to python!')\n",
    "```\n",
    "\n",
    "现在就可以不需要指明python解释器，直接运行python脚本了。\n",
    "\n",
    "```bash\n",
    "chmod +x welcome.py  #set the python script as executable\n",
    "./welcome.py\n",
    "```"
   ]
  },
  {
   "cell_type": "markdown",
   "metadata": {},
   "source": [
    "## Hello World!"
   ]
  },
  {
   "cell_type": "code",
   "execution_count": 5,
   "metadata": {},
   "outputs": [
    {
     "name": "stdout",
     "output_type": "stream",
     "text": [
      "Hello World!\n"
     ]
    }
   ],
   "source": [
    "# This is a one line comment\n",
    "print('Hello World!')"
   ]
  },
  {
   "cell_type": "code",
   "execution_count": 7,
   "metadata": {},
   "outputs": [
    {
     "name": "stdout",
     "output_type": "stream",
     "text": [
      "The \n",
      " makes a new line\n",
      "The \t is a tab\n",
      "I'm going to the movies\n"
     ]
    }
   ],
   "source": [
    "print(\"The \\n makes a new line\")\n",
    "print(\"The \\t is a tab\")\n",
    "print('I\\'m going to the movies')"
   ]
  },
  {
   "cell_type": "code",
   "execution_count": 9,
   "metadata": {},
   "outputs": [
    {
     "name": "stdout",
     "output_type": "stream",
     "text": [
      "Hello World!\n"
     ]
    }
   ],
   "source": [
    "firstVariable = 'Hello World!'\n",
    "print(firstVariable)"
   ]
  },
  {
   "cell_type": "code",
   "execution_count": 10,
   "metadata": {},
   "outputs": [
    {
     "name": "stdout",
     "output_type": "stream",
     "text": [
      "hello world!\n",
      "HELLO WORLD!\n",
      "Hello World!\n"
     ]
    }
   ],
   "source": [
    "# go over ? mark after if you are not sure what method does. \n",
    "print(firstVariable.lower())\n",
    "print(firstVariable.upper())\n",
    "print(firstVariable.title())"
   ]
  },
  {
   "cell_type": "code",
   "execution_count": 11,
   "metadata": {},
   "outputs": [],
   "source": [
    "# To look up what each method does in jupyter notebook\n",
    "firstVariable.lower?"
   ]
  },
  {
   "cell_type": "code",
   "execution_count": 12,
   "metadata": {},
   "outputs": [
    {
     "name": "stdout",
     "output_type": "stream",
     "text": [
      "Help on built-in function lower:\n",
      "\n",
      "lower(...) method of builtins.str instance\n",
      "    S.lower() -> str\n",
      "    \n",
      "    Return a copy of the string S converted to lowercase.\n",
      "\n"
     ]
    }
   ],
   "source": [
    "# Can also use help\n",
    "help(firstVariable.lower)"
   ]
  },
  {
   "cell_type": "markdown",
   "metadata": {},
   "source": [
    "## Simple Math"
   ]
  },
  {
   "cell_type": "code",
   "execution_count": 19,
   "metadata": {},
   "outputs": [
    {
     "name": "stdout",
     "output_type": "stream",
     "text": [
      "2\n",
      "128.0\n",
      "42.0\n",
      "6\n",
      "8\n",
      "1\n"
     ]
    }
   ],
   "source": [
    "# Addition, add two int together\n",
    "print (1+1)\n",
    "print (130-2.0)\n",
    "print (126/3)\n",
    "print (2*3)\n",
    "print (2**3)\n",
    "print (10%3)"
   ]
  },
  {
   "cell_type": "markdown",
   "metadata": {},
   "source": [
    "## if statement\n",
    "Comparison Operator | Function\n",
    "--- | --- \n",
    "< | less than\n",
    "<= | less than or equal to\n",
    "> | greater than\n",
    ">= | greater than or equal to\n",
    "== | equal\n",
    "!= | not equal"
   ]
  },
  {
   "cell_type": "code",
   "execution_count": 39,
   "metadata": {},
   "outputs": [
    {
     "name": "stdout",
     "output_type": "stream",
     "text": [
      "if statement satisfied\n"
     ]
    }
   ],
   "source": [
    "num = 3\n",
    "if num % 3 == 0:\n",
    "    print(\"if statement satisfied\")"
   ]
  },
  {
   "cell_type": "markdown",
   "metadata": {},
   "source": [
    "Logical Operator | Description\n",
    "--- | ---\n",
    "and | If both the operands are True then condition becomes True.\n",
    "or | If any of the two operands are True then condition becomes True. \n",
    "not | Used to reverse the logical (not False becomes True, not True becomes False)"
   ]
  },
  {
   "cell_type": "code",
   "execution_count": 25,
   "metadata": {},
   "outputs": [
    {
     "name": "stdout",
     "output_type": "stream",
     "text": [
      "3\n"
     ]
    }
   ],
   "source": [
    "# both the conditions are true, so the num will be printed out\n",
    "num = 3\n",
    "if num > 0 and num  < 15:\n",
    "    print(num)"
   ]
  },
  {
   "cell_type": "markdown",
   "metadata": {},
   "source": [
    "## else and elif"
   ]
  },
  {
   "cell_type": "code",
   "execution_count": 27,
   "metadata": {},
   "outputs": [
    {
     "name": "stdout",
     "output_type": "stream",
     "text": [
      "Your number is odd\n"
     ]
    }
   ],
   "source": [
    "my_num = 5\n",
    "if my_num % 2 == 0:\n",
    "    print(\"Your number is even\")\n",
    "elif my_num % 2 != 0:\n",
    "    print(\"Your number is odd\")\n",
    "else: \n",
    "    print(\"Are you sure your number is an integer?\")"
   ]
  },
  {
   "cell_type": "markdown",
   "metadata": {},
   "source": [
    "## Swap values"
   ]
  },
  {
   "cell_type": "code",
   "execution_count": 38,
   "metadata": {},
   "outputs": [
    {
     "name": "stdout",
     "output_type": "stream",
     "text": [
      "2 1\n"
     ]
    }
   ],
   "source": [
    "a = 1\n",
    "b = 2\n",
    "b, a = a, b\n",
    "print(a, b)"
   ]
  },
  {
   "cell_type": "markdown",
   "metadata": {},
   "source": [
    "## List\n",
    "请务必注意，python的索引都是**从0开始的**，而不是1！\n",
    "\n",
    " |  |  |  |\n",
    "--- | --- | --- | --- | ---\n",
    "z =| [3, | 7, | 4, | 2]\n",
    "index | 0 | 1 | 2 | 3"
   ]
  },
  {
   "cell_type": "markdown",
   "metadata": {},
   "source": [
    "### Accessing Values in List"
   ]
  },
  {
   "cell_type": "code",
   "execution_count": 29,
   "metadata": {},
   "outputs": [],
   "source": [
    "# Defining a list\n",
    "z = [3, 7, 4, 2]"
   ]
  },
  {
   "cell_type": "code",
   "execution_count": 30,
   "metadata": {},
   "outputs": [
    {
     "data": {
      "text/plain": [
       "3"
      ]
     },
     "execution_count": 30,
     "metadata": {},
     "output_type": "execute_result"
    }
   ],
   "source": [
    "# The first element of a list is at index 0\n",
    "z[0]"
   ]
  },
  {
   "cell_type": "code",
   "execution_count": 32,
   "metadata": {},
   "outputs": [
    {
     "data": {
      "text/plain": [
       "2"
      ]
     },
     "execution_count": 32,
     "metadata": {},
     "output_type": "execute_result"
    }
   ],
   "source": [
    "# Access Last Element of List \n",
    "z[-1]"
   ]
  },
  {
   "cell_type": "markdown",
   "metadata": {},
   "source": [
    "### Slicing Lists"
   ]
  },
  {
   "cell_type": "code",
   "execution_count": 34,
   "metadata": {},
   "outputs": [
    {
     "data": {
      "text/plain": [
       "[3, 7]"
      ]
     },
     "execution_count": 34,
     "metadata": {},
     "output_type": "execute_result"
    }
   ],
   "source": [
    "# first index is inclusive (before the :) and last (after the :) is not. \n",
    "# not including index 2\n",
    "z[0:2]"
   ]
  },
  {
   "cell_type": "code",
   "execution_count": 35,
   "metadata": {},
   "outputs": [
    {
     "data": {
      "text/plain": [
       "[3, 7, 4]"
      ]
     },
     "execution_count": 35,
     "metadata": {},
     "output_type": "execute_result"
    }
   ],
   "source": [
    "# everything up to index 3\n",
    "z[:3]"
   ]
  },
  {
   "cell_type": "code",
   "execution_count": 36,
   "metadata": {},
   "outputs": [
    {
     "data": {
      "text/plain": [
       "[7, 4, 2]"
      ]
     },
     "execution_count": 36,
     "metadata": {},
     "output_type": "execute_result"
    }
   ],
   "source": [
    "# index 1 to end of list\n",
    "z[1:]"
   ]
  },
  {
   "cell_type": "markdown",
   "metadata": {},
   "source": [
    "### Minimum, Maximum, Length, and Sum of a list"
   ]
  },
  {
   "cell_type": "code",
   "execution_count": null,
   "metadata": {},
   "outputs": [],
   "source": [
    "print(min(z), max(z), len(z), sum(z))"
   ]
  },
  {
   "cell_type": "markdown",
   "metadata": {},
   "source": [
    "### Add to the End of List"
   ]
  },
  {
   "cell_type": "code",
   "execution_count": 37,
   "metadata": {},
   "outputs": [
    {
     "name": "stdout",
     "output_type": "stream",
     "text": [
      "[3, 7, 2, 11, 8, 10, 4, 3]\n",
      "['Steve', 'Rachel', 'Michael', 'Adam', 'Monica', 'Jessica', 'Lester', 'James']\n"
     ]
    }
   ],
   "source": [
    "x = [3, 7, 2, 11, 8, 10, 4]\n",
    "y = ['Steve', 'Rachel', 'Michael', 'Adam', 'Monica', 'Jessica', 'Lester']\n",
    "x.append(3)\n",
    "y.append('James')\n",
    "print(x)\n",
    "print (y)"
   ]
  },
  {
   "cell_type": "markdown",
   "metadata": {},
   "source": [
    "### list comprehension"
   ]
  },
  {
   "cell_type": "code",
   "execution_count": 43,
   "metadata": {},
   "outputs": [
    {
     "name": "stdout",
     "output_type": "stream",
     "text": [
      "[10, 11, 12, 13, 14, 15, 16, 17, 18, 19]\n"
     ]
    }
   ],
   "source": [
    "#Use for loops\n",
    "a = []\n",
    "for i in range(10):\n",
    "    a.append(i + 10)\n",
    "print(a)"
   ]
  },
  {
   "cell_type": "code",
   "execution_count": 42,
   "metadata": {},
   "outputs": [
    {
     "name": "stdout",
     "output_type": "stream",
     "text": [
      "[10, 11, 12, 13, 14, 15, 16, 17, 18, 19]\n"
     ]
    }
   ],
   "source": [
    "#Use list comprehension\n",
    "a = [i + 10 for i in range(10)]\n",
    "print(a)"
   ]
  },
  {
   "cell_type": "markdown",
   "metadata": {},
   "source": [
    "## Dictionary"
   ]
  },
  {
   "cell_type": "markdown",
   "metadata": {},
   "source": [
    "字典是另一种可变容器模型，且可存储任意类型对象。\n",
    "\n",
    "字典的每个键值 `key=>value` 对用冒号 `:` 分割，每个键值对之间用逗号 `,` 分割，整个字典包括在花括号 `{}` 中\n",
    "\n",
    "键一般是唯一的，如果重复最后的一个键值对会替换前面的，值不需要唯一"
   ]
  },
  {
   "cell_type": "markdown",
   "metadata": {},
   "source": [
    "### 定义和获取字典中的值"
   ]
  },
  {
   "cell_type": "code",
   "execution_count": 45,
   "metadata": {},
   "outputs": [
    {
     "data": {
      "text/plain": [
       "'3'"
      ]
     },
     "execution_count": 45,
     "metadata": {},
     "output_type": "execute_result"
    }
   ],
   "source": [
    "dict = {'a': 1, 'b': 2, 'b': '3'};\n",
    "dict['b']"
   ]
  },
  {
   "cell_type": "markdown",
   "metadata": {},
   "source": [
    "### 修改字典"
   ]
  },
  {
   "cell_type": "code",
   "execution_count": 48,
   "metadata": {},
   "outputs": [
    {
     "name": "stdout",
     "output_type": "stream",
     "text": [
      "dict['Age']:  8\n",
      "dict['School']:  DPS School\n"
     ]
    }
   ],
   "source": [
    "dict = {'Name': 'Zara', 'Age': 7, 'Class': 'First'};\n",
    " \n",
    "dict['Age'] = 8; # update existing entry\n",
    "dict['School'] = \"DPS School\"; # Add new entry\n",
    " \n",
    " \n",
    "print (\"dict['Age']: \", dict['Age'])\n",
    "print (\"dict['School']: \", dict['School'])"
   ]
  },
  {
   "cell_type": "markdown",
   "metadata": {},
   "source": [
    "### Dict comprehension"
   ]
  },
  {
   "cell_type": "code",
   "execution_count": 50,
   "metadata": {},
   "outputs": [
    {
     "name": "stdout",
     "output_type": "stream",
     "text": [
      "{0: 'A', 1: 'B', 2: 'C', 3: 'D', 4: 'E', 5: 'F', 6: 'G', 7: 'H', 8: 'I', 9: 'J'}\n"
     ]
    }
   ],
   "source": [
    "#Use for-loops:\n",
    "a = {}\n",
    "for i in range(10):\n",
    "    a[i] = chr(ord('A') + i) \n",
    "print(a)"
   ]
  },
  {
   "cell_type": "code",
   "execution_count": 51,
   "metadata": {},
   "outputs": [
    {
     "name": "stdout",
     "output_type": "stream",
     "text": [
      "{0: 'A', 1: 'B', 2: 'C', 3: 'D', 4: 'E', 5: 'F', 6: 'G', 7: 'H', 8: 'I', 9: 'J'}\n"
     ]
    }
   ],
   "source": [
    "#Use dict comprehension:\n",
    "a = {i:chr(ord('A') + i) for i in range(10)}\n",
    "print(a)"
   ]
  },
  {
   "cell_type": "markdown",
   "metadata": {},
   "source": [
    "# Scientific computation"
   ]
  },
  {
   "cell_type": "markdown",
   "metadata": {},
   "source": [
    "## Scientific computing相关的python工具包\n",
    "![scipy ecosystem](assets/scipy_ecosystem.jpg)"
   ]
  },
  {
   "cell_type": "markdown",
   "metadata": {},
   "source": [
    "## 使用python工具包\n",
    "python的开发者提供了数以万计的python工具包，以原生工具包`os`和矩阵计算工具包`numpy`为例，导入方法如下："
   ]
  },
  {
   "cell_type": "code",
   "execution_count": 53,
   "metadata": {},
   "outputs": [],
   "source": [
    "import os\n",
    "import numpy as np "
   ]
  },
  {
   "cell_type": "markdown",
   "metadata": {},
   "source": [
    "对于初学者，我们推荐优先掌握如下python工具包：\n",
    "- Numpy\n",
    "- Scipy\n",
    "- Pandas\n",
    "- Matplotlib\n",
    "\n",
    "它们提供了非常强大有用的科学计算功能，在矩阵运算、统计建模、机器学习、数据可视化等领域都应用广泛。\n",
    "\n",
    "如果读者对机器学习和深度学习感兴趣，可以进一步了解以下工具包：\n",
    "- scikit-learn\n",
    "- Keras/Tensorflow/Pytorh"
   ]
  },
  {
   "cell_type": "markdown",
   "metadata": {},
   "source": [
    "### 矩阵计算工具: Numpy\n",
    "URL: (http://www.numpy.org/)"
   ]
  },
  {
   "cell_type": "code",
   "execution_count": 54,
   "metadata": {},
   "outputs": [],
   "source": [
    "import numpy as np"
   ]
  },
  {
   "cell_type": "code",
   "execution_count": 67,
   "metadata": {},
   "outputs": [
    {
     "data": {
      "text/plain": [
       "array([[0, 0, 0, 0],\n",
       "       [0, 0, 0, 0],\n",
       "       [0, 0, 0, 0],\n",
       "       [0, 0, 0, 0],\n",
       "       [0, 0, 0, 0]], dtype=int32)"
      ]
     },
     "execution_count": 67,
     "metadata": {},
     "output_type": "execute_result"
    }
   ],
   "source": [
    "# create an empty matrix of shape (5, 4)\n",
    "X = np.zeros((5, 4), dtype=np.int32)\n",
    "X"
   ]
  },
  {
   "cell_type": "code",
   "execution_count": 68,
   "metadata": {},
   "outputs": [
    {
     "data": {
      "text/plain": [
       "array([0, 1, 2, 3, 4])"
      ]
     },
     "execution_count": 68,
     "metadata": {},
     "output_type": "execute_result"
    }
   ],
   "source": [
    "# create an array of length 5: [0, 1, 2, 3, 4]\n",
    "y = np.arange(0,5)\n",
    "y"
   ]
  },
  {
   "cell_type": "code",
   "execution_count": 69,
   "metadata": {},
   "outputs": [
    {
     "data": {
      "text/plain": [
       "array([0, 1, 2, 3])"
      ]
     },
     "execution_count": 69,
     "metadata": {},
     "output_type": "execute_result"
    }
   ],
   "source": [
    "# create an array of length 4: [0, 1, 2, 3]\n",
    "z = np.arange(4)\n",
    "z"
   ]
  },
  {
   "cell_type": "code",
   "execution_count": 70,
   "metadata": {},
   "outputs": [
    {
     "data": {
      "text/plain": [
       "array([[0, 1, 2, 3],\n",
       "       [1, 1, 1, 1],\n",
       "       [0, 0, 0, 0],\n",
       "       [0, 0, 0, 0],\n",
       "       [0, 0, 0, 0]], dtype=int32)"
      ]
     },
     "execution_count": 70,
     "metadata": {},
     "output_type": "execute_result"
    }
   ],
   "source": [
    "# set Row 1 to [0, 1, 2, 3]\n",
    "X[0] = np.arange(4)\n",
    "# set Row 2 to [1, 1, 1, 1]\n",
    "X[1] = 1\n",
    "X"
   ]
  },
  {
   "cell_type": "code",
   "execution_count": 71,
   "metadata": {},
   "outputs": [
    {
     "data": {
      "text/plain": [
       "array([[1, 2, 3, 4],\n",
       "       [2, 2, 2, 2],\n",
       "       [1, 1, 1, 1],\n",
       "       [1, 1, 1, 1],\n",
       "       [1, 1, 1, 1]], dtype=int32)"
      ]
     },
     "execution_count": 71,
     "metadata": {},
     "output_type": "execute_result"
    }
   ],
   "source": [
    "# add 1 to all elements\n",
    "X += 1\n",
    "X"
   ]
  },
  {
   "cell_type": "code",
   "execution_count": 72,
   "metadata": {},
   "outputs": [
    {
     "data": {
      "text/plain": [
       "array([[1, 2, 3, 4],\n",
       "       [3, 3, 3, 3],\n",
       "       [3, 3, 3, 3],\n",
       "       [4, 4, 4, 4],\n",
       "       [5, 5, 5, 5]], dtype=int32)"
      ]
     },
     "execution_count": 72,
     "metadata": {},
     "output_type": "execute_result"
    }
   ],
   "source": [
    "# add y to each row of X\n",
    "X += y.reshape((-1, 1))\n",
    "X"
   ]
  },
  {
   "cell_type": "code",
   "execution_count": 73,
   "metadata": {},
   "outputs": [
    {
     "data": {
      "text/plain": [
       "array([[1, 3, 5, 7],\n",
       "       [3, 4, 5, 6],\n",
       "       [3, 4, 5, 6],\n",
       "       [4, 5, 6, 7],\n",
       "       [5, 6, 7, 8]], dtype=int32)"
      ]
     },
     "execution_count": 73,
     "metadata": {},
     "output_type": "execute_result"
    }
   ],
   "source": [
    "# add z to each column of X\n",
    "X += z.reshape((1, -1))\n",
    "X"
   ]
  },
  {
   "cell_type": "code",
   "execution_count": 75,
   "metadata": {},
   "outputs": [
    {
     "data": {
      "text/plain": [
       "array([16, 18, 18, 22, 26])"
      ]
     },
     "execution_count": 75,
     "metadata": {},
     "output_type": "execute_result"
    }
   ],
   "source": [
    "# get row sums => \n",
    "row_sums = X.sum(axis=1)\n",
    "row_sums"
   ]
  },
  {
   "cell_type": "code",
   "execution_count": 76,
   "metadata": {},
   "outputs": [
    {
     "data": {
      "text/plain": [
       "array([16, 22, 28, 34])"
      ]
     },
     "execution_count": 76,
     "metadata": {},
     "output_type": "execute_result"
    }
   ],
   "source": [
    "# get column sums\n",
    "col_sums = X.sum(axis=0)\n",
    "col_sums"
   ]
  },
  {
   "cell_type": "code",
   "execution_count": 78,
   "metadata": {},
   "outputs": [
    {
     "data": {
      "text/plain": [
       "array([[ 84,  82,  82,  98, 114],\n",
       "       [ 82,  86,  86, 104, 122],\n",
       "       [ 82,  86,  86, 104, 122],\n",
       "       [ 98, 104, 104, 126, 148],\n",
       "       [114, 122, 122, 148, 174]], dtype=int32)"
      ]
     },
     "execution_count": 78,
     "metadata": {},
     "output_type": "execute_result"
    }
   ],
   "source": [
    "# matrix multiplication\n",
    "A = X.dot(X.T)\n",
    "A"
   ]
  },
  {
   "cell_type": "markdown",
   "metadata": {},
   "source": [
    "### 数值分析工具(概率分布，信号分析等.): Scipy\n",
    "URL: (https://www.scipy.org/)\n",
    "\n",
    "scipy.stats contains a large number probability distributions:\n",
    "![scipy_stats](assets/scipy_stats.png)"
   ]
  },
  {
   "cell_type": "markdown",
   "metadata": {},
   "source": [
    "### 操作data frames的工具包：pandas\n",
    "URL: (http://pandas.pydata.org/pandas-docs/stable/)"
   ]
  },
  {
   "cell_type": "code",
   "execution_count": 80,
   "metadata": {},
   "outputs": [],
   "source": [
    "import pandas as pd"
   ]
  },
  {
   "cell_type": "code",
   "execution_count": 96,
   "metadata": {},
   "outputs": [
    {
     "data": {
      "text/html": [
       "<div>\n",
       "<style scoped>\n",
       "    .dataframe tbody tr th:only-of-type {\n",
       "        vertical-align: middle;\n",
       "    }\n",
       "\n",
       "    .dataframe tbody tr th {\n",
       "        vertical-align: top;\n",
       "    }\n",
       "\n",
       "    .dataframe thead th {\n",
       "        text-align: right;\n",
       "    }\n",
       "</style>\n",
       "<table border=\"1\" class=\"dataframe\">\n",
       "  <thead>\n",
       "    <tr style=\"text-align: right;\">\n",
       "      <th></th>\n",
       "      <th>chrom</th>\n",
       "      <th>start</th>\n",
       "      <th>end</th>\n",
       "      <th>gene_id</th>\n",
       "      <th>score</th>\n",
       "      <th>strand</th>\n",
       "      <th>biotype</th>\n",
       "    </tr>\n",
       "  </thead>\n",
       "  <tbody>\n",
       "    <tr>\n",
       "      <th>0</th>\n",
       "      <td>chr10</td>\n",
       "      <td>100237155</td>\n",
       "      <td>100237302</td>\n",
       "      <td>ENSG00000212464.1</td>\n",
       "      <td>.</td>\n",
       "      <td>-</td>\n",
       "      <td>snoRNA</td>\n",
       "    </tr>\n",
       "    <tr>\n",
       "      <th>1</th>\n",
       "      <td>chr10</td>\n",
       "      <td>100258570</td>\n",
       "      <td>100258677</td>\n",
       "      <td>ENSG00000207362.1</td>\n",
       "      <td>.</td>\n",
       "      <td>+</td>\n",
       "      <td>snRNA</td>\n",
       "    </tr>\n",
       "    <tr>\n",
       "      <th>2</th>\n",
       "      <td>chr10</td>\n",
       "      <td>100398351</td>\n",
       "      <td>100398446</td>\n",
       "      <td>ENSG00000212325.1</td>\n",
       "      <td>.</td>\n",
       "      <td>-</td>\n",
       "      <td>misc_RNA</td>\n",
       "    </tr>\n",
       "    <tr>\n",
       "      <th>3</th>\n",
       "      <td>chr10</td>\n",
       "      <td>100666694</td>\n",
       "      <td>100667009</td>\n",
       "      <td>ENSG00000274660.1</td>\n",
       "      <td>.</td>\n",
       "      <td>-</td>\n",
       "      <td>misc_RNA</td>\n",
       "    </tr>\n",
       "    <tr>\n",
       "      <th>4</th>\n",
       "      <td>chr10</td>\n",
       "      <td>100907173</td>\n",
       "      <td>100907280</td>\n",
       "      <td>ENSG00000222072.1</td>\n",
       "      <td>.</td>\n",
       "      <td>-</td>\n",
       "      <td>misc_RNA</td>\n",
       "    </tr>\n",
       "    <tr>\n",
       "      <th>5</th>\n",
       "      <td>chr10</td>\n",
       "      <td>100974984</td>\n",
       "      <td>100975084</td>\n",
       "      <td>ENSG00000207551.1</td>\n",
       "      <td>.</td>\n",
       "      <td>+</td>\n",
       "      <td>miRNA</td>\n",
       "    </tr>\n",
       "    <tr>\n",
       "      <th>6</th>\n",
       "      <td>chr10</td>\n",
       "      <td>101307528</td>\n",
       "      <td>101307718</td>\n",
       "      <td>ENSG00000222238.1</td>\n",
       "      <td>.</td>\n",
       "      <td>+</td>\n",
       "      <td>snRNA</td>\n",
       "    </tr>\n",
       "    <tr>\n",
       "      <th>7</th>\n",
       "      <td>chr10</td>\n",
       "      <td>101364844</td>\n",
       "      <td>101365035</td>\n",
       "      <td>ENSG00000222414.1</td>\n",
       "      <td>.</td>\n",
       "      <td>-</td>\n",
       "      <td>snRNA</td>\n",
       "    </tr>\n",
       "    <tr>\n",
       "      <th>8</th>\n",
       "      <td>chr10</td>\n",
       "      <td>101601416</td>\n",
       "      <td>101601497</td>\n",
       "      <td>ENSG00000263436.1</td>\n",
       "      <td>.</td>\n",
       "      <td>+</td>\n",
       "      <td>miRNA</td>\n",
       "    </tr>\n",
       "    <tr>\n",
       "      <th>9</th>\n",
       "      <td>chr10</td>\n",
       "      <td>101601416</td>\n",
       "      <td>101601497</td>\n",
       "      <td>ENSG00000283558.1</td>\n",
       "      <td>.</td>\n",
       "      <td>-</td>\n",
       "      <td>miRNA</td>\n",
       "    </tr>\n",
       "  </tbody>\n",
       "</table>\n",
       "</div>"
      ],
      "text/plain": [
       "   chrom      start        end            gene_id score strand   biotype\n",
       "0  chr10  100237155  100237302  ENSG00000212464.1     .      -    snoRNA\n",
       "1  chr10  100258570  100258677  ENSG00000207362.1     .      +     snRNA\n",
       "2  chr10  100398351  100398446  ENSG00000212325.1     .      -  misc_RNA\n",
       "3  chr10  100666694  100667009  ENSG00000274660.1     .      -  misc_RNA\n",
       "4  chr10  100907173  100907280  ENSG00000222072.1     .      -  misc_RNA\n",
       "5  chr10  100974984  100975084  ENSG00000207551.1     .      +     miRNA\n",
       "6  chr10  101307528  101307718  ENSG00000222238.1     .      +     snRNA\n",
       "7  chr10  101364844  101365035  ENSG00000222414.1     .      -     snRNA\n",
       "8  chr10  101601416  101601497  ENSG00000263436.1     .      +     miRNA\n",
       "9  chr10  101601416  101601497  ENSG00000283558.1     .      -     miRNA"
      ]
     },
     "execution_count": 96,
     "metadata": {},
     "output_type": "execute_result"
    }
   ],
   "source": [
    "# read a bed file\n",
    "genes = pd.read_table('data/gene.bed', header=None, sep='\\t',\n",
    "                     names=('chrom', 'start', 'end', 'gene_id', 'score', 'strand', 'biotype'))\n",
    "genes.head(10)"
   ]
  },
  {
   "cell_type": "code",
   "execution_count": 87,
   "metadata": {},
   "outputs": [],
   "source": [
    "# get all gene IDs\n",
    "gene_ids = genes['gene_id']"
   ]
  },
  {
   "cell_type": "code",
   "execution_count": 95,
   "metadata": {},
   "outputs": [
    {
     "data": {
      "text/html": [
       "<div>\n",
       "<style scoped>\n",
       "    .dataframe tbody tr th:only-of-type {\n",
       "        vertical-align: middle;\n",
       "    }\n",
       "\n",
       "    .dataframe tbody tr th {\n",
       "        vertical-align: top;\n",
       "    }\n",
       "\n",
       "    .dataframe thead th {\n",
       "        text-align: right;\n",
       "    }\n",
       "</style>\n",
       "<table border=\"1\" class=\"dataframe\">\n",
       "  <thead>\n",
       "    <tr style=\"text-align: right;\">\n",
       "      <th></th>\n",
       "      <th>chrom</th>\n",
       "      <th>start</th>\n",
       "      <th>end</th>\n",
       "      <th>gene_id</th>\n",
       "      <th>score</th>\n",
       "      <th>strand</th>\n",
       "      <th>biotype</th>\n",
       "    </tr>\n",
       "    <tr>\n",
       "      <th>gene_id</th>\n",
       "      <th></th>\n",
       "      <th></th>\n",
       "      <th></th>\n",
       "      <th></th>\n",
       "      <th></th>\n",
       "      <th></th>\n",
       "      <th></th>\n",
       "    </tr>\n",
       "  </thead>\n",
       "  <tbody>\n",
       "    <tr>\n",
       "      <th>ENSG00000212464.1</th>\n",
       "      <td>chr10</td>\n",
       "      <td>100237155</td>\n",
       "      <td>100237302</td>\n",
       "      <td>ENSG00000212464.1</td>\n",
       "      <td>.</td>\n",
       "      <td>-</td>\n",
       "      <td>snoRNA</td>\n",
       "    </tr>\n",
       "    <tr>\n",
       "      <th>ENSG00000207362.1</th>\n",
       "      <td>chr10</td>\n",
       "      <td>100258570</td>\n",
       "      <td>100258677</td>\n",
       "      <td>ENSG00000207362.1</td>\n",
       "      <td>.</td>\n",
       "      <td>+</td>\n",
       "      <td>snRNA</td>\n",
       "    </tr>\n",
       "    <tr>\n",
       "      <th>ENSG00000212325.1</th>\n",
       "      <td>chr10</td>\n",
       "      <td>100398351</td>\n",
       "      <td>100398446</td>\n",
       "      <td>ENSG00000212325.1</td>\n",
       "      <td>.</td>\n",
       "      <td>-</td>\n",
       "      <td>misc_RNA</td>\n",
       "    </tr>\n",
       "    <tr>\n",
       "      <th>ENSG00000274660.1</th>\n",
       "      <td>chr10</td>\n",
       "      <td>100666694</td>\n",
       "      <td>100667009</td>\n",
       "      <td>ENSG00000274660.1</td>\n",
       "      <td>.</td>\n",
       "      <td>-</td>\n",
       "      <td>misc_RNA</td>\n",
       "    </tr>\n",
       "    <tr>\n",
       "      <th>ENSG00000222072.1</th>\n",
       "      <td>chr10</td>\n",
       "      <td>100907173</td>\n",
       "      <td>100907280</td>\n",
       "      <td>ENSG00000222072.1</td>\n",
       "      <td>.</td>\n",
       "      <td>-</td>\n",
       "      <td>misc_RNA</td>\n",
       "    </tr>\n",
       "  </tbody>\n",
       "</table>\n",
       "</div>"
      ],
      "text/plain": [
       "                   chrom      start        end            gene_id score  \\\n",
       "gene_id                                                                   \n",
       "ENSG00000212464.1  chr10  100237155  100237302  ENSG00000212464.1     .   \n",
       "ENSG00000207362.1  chr10  100258570  100258677  ENSG00000207362.1     .   \n",
       "ENSG00000212325.1  chr10  100398351  100398446  ENSG00000212325.1     .   \n",
       "ENSG00000274660.1  chr10  100666694  100667009  ENSG00000274660.1     .   \n",
       "ENSG00000222072.1  chr10  100907173  100907280  ENSG00000222072.1     .   \n",
       "\n",
       "                  strand   biotype  \n",
       "gene_id                             \n",
       "ENSG00000212464.1      -    snoRNA  \n",
       "ENSG00000207362.1      +     snRNA  \n",
       "ENSG00000212325.1      -  misc_RNA  \n",
       "ENSG00000274660.1      -  misc_RNA  \n",
       "ENSG00000222072.1      -  misc_RNA  "
      ]
     },
     "execution_count": 95,
     "metadata": {},
     "output_type": "execute_result"
    }
   ],
   "source": [
    "# set gene_id as index\n",
    "genes.index = genes['gene_id']\n",
    "genes.head()"
   ]
  },
  {
   "cell_type": "code",
   "execution_count": 90,
   "metadata": {},
   "outputs": [
    {
     "data": {
      "text/plain": [
       "chrom                  chr10\n",
       "start              100398351\n",
       "end                100398446\n",
       "gene_id    ENSG00000212325.1\n",
       "score                      .\n",
       "strand                     -\n",
       "biotype             misc_RNA\n",
       "Name: ENSG00000212325.1, dtype: object"
      ]
     },
     "execution_count": 90,
     "metadata": {},
     "output_type": "execute_result"
    }
   ],
   "source": [
    "# get row with given gene_id\n",
    "gene = genes.loc['ENSG00000212325.1']\n",
    "gene"
   ]
  },
  {
   "cell_type": "code",
   "execution_count": 93,
   "metadata": {},
   "outputs": [
    {
     "data": {
      "text/html": [
       "<div>\n",
       "<style scoped>\n",
       "    .dataframe tbody tr th:only-of-type {\n",
       "        vertical-align: middle;\n",
       "    }\n",
       "\n",
       "    .dataframe tbody tr th {\n",
       "        vertical-align: top;\n",
       "    }\n",
       "\n",
       "    .dataframe thead th {\n",
       "        text-align: right;\n",
       "    }\n",
       "</style>\n",
       "<table border=\"1\" class=\"dataframe\">\n",
       "  <thead>\n",
       "    <tr style=\"text-align: right;\">\n",
       "      <th></th>\n",
       "      <th>chrom</th>\n",
       "      <th>start</th>\n",
       "      <th>end</th>\n",
       "      <th>gene_id</th>\n",
       "      <th>score</th>\n",
       "      <th>strand</th>\n",
       "      <th>biotype</th>\n",
       "    </tr>\n",
       "    <tr>\n",
       "      <th>gene_id</th>\n",
       "      <th></th>\n",
       "      <th></th>\n",
       "      <th></th>\n",
       "      <th></th>\n",
       "      <th></th>\n",
       "      <th></th>\n",
       "      <th></th>\n",
       "    </tr>\n",
       "  </thead>\n",
       "  <tbody>\n",
       "    <tr>\n",
       "      <th>ENSG00000120054.11</th>\n",
       "      <td>chr10</td>\n",
       "      <td>100042192</td>\n",
       "      <td>100081877</td>\n",
       "      <td>ENSG00000120054.11</td>\n",
       "      <td>.</td>\n",
       "      <td>-</td>\n",
       "      <td>protein_coding</td>\n",
       "    </tr>\n",
       "    <tr>\n",
       "      <th>ENSG00000107566.13</th>\n",
       "      <td>chr10</td>\n",
       "      <td>100150093</td>\n",
       "      <td>100188334</td>\n",
       "      <td>ENSG00000107566.13</td>\n",
       "      <td>.</td>\n",
       "      <td>-</td>\n",
       "      <td>protein_coding</td>\n",
       "    </tr>\n",
       "    <tr>\n",
       "      <th>ENSG00000213341.10</th>\n",
       "      <td>chr10</td>\n",
       "      <td>100188297</td>\n",
       "      <td>100229619</td>\n",
       "      <td>ENSG00000213341.10</td>\n",
       "      <td>.</td>\n",
       "      <td>-</td>\n",
       "      <td>protein_coding</td>\n",
       "    </tr>\n",
       "    <tr>\n",
       "      <th>ENSG00000095485.16</th>\n",
       "      <td>chr10</td>\n",
       "      <td>100232297</td>\n",
       "      <td>100267680</td>\n",
       "      <td>ENSG00000095485.16</td>\n",
       "      <td>.</td>\n",
       "      <td>-</td>\n",
       "      <td>protein_coding</td>\n",
       "    </tr>\n",
       "    <tr>\n",
       "      <th>ENSG00000196072.11</th>\n",
       "      <td>chr10</td>\n",
       "      <td>100273279</td>\n",
       "      <td>100286712</td>\n",
       "      <td>ENSG00000196072.11</td>\n",
       "      <td>.</td>\n",
       "      <td>-</td>\n",
       "      <td>protein_coding</td>\n",
       "    </tr>\n",
       "  </tbody>\n",
       "</table>\n",
       "</div>"
      ],
      "text/plain": [
       "                    chrom      start        end             gene_id score  \\\n",
       "gene_id                                                                     \n",
       "ENSG00000120054.11  chr10  100042192  100081877  ENSG00000120054.11     .   \n",
       "ENSG00000107566.13  chr10  100150093  100188334  ENSG00000107566.13     .   \n",
       "ENSG00000213341.10  chr10  100188297  100229619  ENSG00000213341.10     .   \n",
       "ENSG00000095485.16  chr10  100232297  100267680  ENSG00000095485.16     .   \n",
       "ENSG00000196072.11  chr10  100273279  100286712  ENSG00000196072.11     .   \n",
       "\n",
       "                   strand         biotype  \n",
       "gene_id                                    \n",
       "ENSG00000120054.11      -  protein_coding  \n",
       "ENSG00000107566.13      -  protein_coding  \n",
       "ENSG00000213341.10      -  protein_coding  \n",
       "ENSG00000095485.16      -  protein_coding  \n",
       "ENSG00000196072.11      -  protein_coding  "
      ]
     },
     "execution_count": 93,
     "metadata": {},
     "output_type": "execute_result"
    }
   ],
   "source": [
    "# get rows with biotype = 'protein_coding'\n",
    "genes_selected = genes[genes['biotype'] == 'protein_coding']\n",
    "genes_selected.head()"
   ]
  },
  {
   "cell_type": "code",
   "execution_count": 97,
   "metadata": {},
   "outputs": [
    {
     "data": {
      "text/html": [
       "<div>\n",
       "<style scoped>\n",
       "    .dataframe tbody tr th:only-of-type {\n",
       "        vertical-align: middle;\n",
       "    }\n",
       "\n",
       "    .dataframe tbody tr th {\n",
       "        vertical-align: top;\n",
       "    }\n",
       "\n",
       "    .dataframe thead th {\n",
       "        text-align: right;\n",
       "    }\n",
       "</style>\n",
       "<table border=\"1\" class=\"dataframe\">\n",
       "  <thead>\n",
       "    <tr style=\"text-align: right;\">\n",
       "      <th></th>\n",
       "      <th>chrom</th>\n",
       "      <th>start</th>\n",
       "      <th>end</th>\n",
       "      <th>gene_id</th>\n",
       "      <th>score</th>\n",
       "      <th>strand</th>\n",
       "      <th>biotype</th>\n",
       "    </tr>\n",
       "  </thead>\n",
       "  <tbody>\n",
       "    <tr>\n",
       "      <th>23888</th>\n",
       "      <td>chr1</td>\n",
       "      <td>153772370</td>\n",
       "      <td>153774079</td>\n",
       "      <td>ENSG00000279767.1</td>\n",
       "      <td>.</td>\n",
       "      <td>-</td>\n",
       "      <td>protein_coding</td>\n",
       "    </tr>\n",
       "    <tr>\n",
       "      <th>23944</th>\n",
       "      <td>chr1</td>\n",
       "      <td>16539065</td>\n",
       "      <td>16539575</td>\n",
       "      <td>ENSG00000268991.2</td>\n",
       "      <td>.</td>\n",
       "      <td>+</td>\n",
       "      <td>protein_coding</td>\n",
       "    </tr>\n",
       "    <tr>\n",
       "      <th>23950</th>\n",
       "      <td>chr1</td>\n",
       "      <td>16673002</td>\n",
       "      <td>16673512</td>\n",
       "      <td>ENSG00000237847.2</td>\n",
       "      <td>.</td>\n",
       "      <td>+</td>\n",
       "      <td>protein_coding</td>\n",
       "    </tr>\n",
       "    <tr>\n",
       "      <th>23952</th>\n",
       "      <td>chr1</td>\n",
       "      <td>16733951</td>\n",
       "      <td>16734461</td>\n",
       "      <td>ENSG00000279132.2</td>\n",
       "      <td>.</td>\n",
       "      <td>-</td>\n",
       "      <td>protein_coding</td>\n",
       "    </tr>\n",
       "    <tr>\n",
       "      <th>24470</th>\n",
       "      <td>chr1</td>\n",
       "      <td>100038096</td>\n",
       "      <td>100083377</td>\n",
       "      <td>ENSG00000156875.13</td>\n",
       "      <td>.</td>\n",
       "      <td>+</td>\n",
       "      <td>protein_coding</td>\n",
       "    </tr>\n",
       "  </tbody>\n",
       "</table>\n",
       "</div>"
      ],
      "text/plain": [
       "      chrom      start        end             gene_id score strand  \\\n",
       "23888  chr1  153772370  153774079   ENSG00000279767.1     .      -   \n",
       "23944  chr1   16539065   16539575   ENSG00000268991.2     .      +   \n",
       "23950  chr1   16673002   16673512   ENSG00000237847.2     .      +   \n",
       "23952  chr1   16733951   16734461   ENSG00000279132.2     .      -   \n",
       "24470  chr1  100038096  100083377  ENSG00000156875.13     .      +   \n",
       "\n",
       "              biotype  \n",
       "23888  protein_coding  \n",
       "23944  protein_coding  \n",
       "23950  protein_coding  \n",
       "23952  protein_coding  \n",
       "24470  protein_coding  "
      ]
     },
     "execution_count": 97,
     "metadata": {},
     "output_type": "execute_result"
    }
   ],
   "source": [
    "# get protein coding genes in chr1\n",
    "genes_selected = genes.query('(biotype == \"protein_coding\") and (chrom == \"chr1\")')\n",
    "genes_selected.head()"
   ]
  },
  {
   "cell_type": "code",
   "execution_count": 98,
   "metadata": {},
   "outputs": [
    {
     "data": {
      "text/plain": [
       "biotype\n",
       "3prime_overlapping_ncRNA                 31\n",
       "IG_C_gene                                14\n",
       "IG_C_pseudogene                           9\n",
       "IG_D_gene                                37\n",
       "IG_J_gene                                18\n",
       "IG_J_pseudogene                           3\n",
       "IG_V_gene                               144\n",
       "IG_V_pseudogene                         188\n",
       "IG_pseudogene                             1\n",
       "Mt_rRNA                                   2\n",
       "Mt_tRNA                                  22\n",
       "TEC                                    1068\n",
       "TR_C_gene                                 6\n",
       "TR_D_gene                                 4\n",
       "TR_J_gene                                79\n",
       "TR_J_pseudogene                           4\n",
       "TR_V_gene                               108\n",
       "TR_V_pseudogene                          30\n",
       "antisense                              5529\n",
       "bidirectional_promoter_lncRNA             8\n",
       "lincRNA                                7520\n",
       "macro_lncRNA                              1\n",
       "miRNA                                  1881\n",
       "misc_RNA                               2213\n",
       "non_coding                                3\n",
       "polymorphic_pseudogene                   54\n",
       "processed_pseudogene                  10248\n",
       "processed_transcript                    533\n",
       "protein_coding                        19817\n",
       "pseudogene                               18\n",
       "rRNA                                    543\n",
       "ribozyme                                  8\n",
       "sRNA                                      5\n",
       "scRNA                                     1\n",
       "scaRNA                                   49\n",
       "sense_intronic                          904\n",
       "sense_overlapping                       190\n",
       "snRNA                                  1900\n",
       "snoRNA                                  943\n",
       "transcribed_processed_pseudogene        452\n",
       "transcribed_unitary_pseudogene           95\n",
       "transcribed_unprocessed_pseudogene      749\n",
       "unitary_pseudogene                      116\n",
       "unprocessed_pseudogene                 2670\n",
       "vaultRNA                                  1\n",
       "Name: gene_id, dtype: int64"
      ]
     },
     "execution_count": 98,
     "metadata": {},
     "output_type": "execute_result"
    }
   ],
   "source": [
    "# count genes for each biotype\n",
    "biotype_counts = genes.groupby('biotype')['gene_id'].count()\n",
    "biotype_counts"
   ]
  },
  {
   "cell_type": "code",
   "execution_count": 99,
   "metadata": {},
   "outputs": [
    {
     "data": {
      "text/html": [
       "<div>\n",
       "<style scoped>\n",
       "    .dataframe tbody tr th:only-of-type {\n",
       "        vertical-align: middle;\n",
       "    }\n",
       "\n",
       "    .dataframe tbody tr th {\n",
       "        vertical-align: top;\n",
       "    }\n",
       "\n",
       "    .dataframe thead th {\n",
       "        text-align: right;\n",
       "    }\n",
       "</style>\n",
       "<table border=\"1\" class=\"dataframe\">\n",
       "  <thead>\n",
       "    <tr style=\"text-align: right;\">\n",
       "      <th></th>\n",
       "      <th>chrom</th>\n",
       "      <th>start</th>\n",
       "      <th>end</th>\n",
       "      <th>gene_id</th>\n",
       "      <th>score</th>\n",
       "      <th>strand</th>\n",
       "      <th>biotype</th>\n",
       "      <th>length</th>\n",
       "    </tr>\n",
       "  </thead>\n",
       "  <tbody>\n",
       "    <tr>\n",
       "      <th>0</th>\n",
       "      <td>chr10</td>\n",
       "      <td>100237155</td>\n",
       "      <td>100237302</td>\n",
       "      <td>ENSG00000212464.1</td>\n",
       "      <td>.</td>\n",
       "      <td>-</td>\n",
       "      <td>snoRNA</td>\n",
       "      <td>147</td>\n",
       "    </tr>\n",
       "    <tr>\n",
       "      <th>1</th>\n",
       "      <td>chr10</td>\n",
       "      <td>100258570</td>\n",
       "      <td>100258677</td>\n",
       "      <td>ENSG00000207362.1</td>\n",
       "      <td>.</td>\n",
       "      <td>+</td>\n",
       "      <td>snRNA</td>\n",
       "      <td>107</td>\n",
       "    </tr>\n",
       "    <tr>\n",
       "      <th>2</th>\n",
       "      <td>chr10</td>\n",
       "      <td>100398351</td>\n",
       "      <td>100398446</td>\n",
       "      <td>ENSG00000212325.1</td>\n",
       "      <td>.</td>\n",
       "      <td>-</td>\n",
       "      <td>misc_RNA</td>\n",
       "      <td>95</td>\n",
       "    </tr>\n",
       "    <tr>\n",
       "      <th>3</th>\n",
       "      <td>chr10</td>\n",
       "      <td>100666694</td>\n",
       "      <td>100667009</td>\n",
       "      <td>ENSG00000274660.1</td>\n",
       "      <td>.</td>\n",
       "      <td>-</td>\n",
       "      <td>misc_RNA</td>\n",
       "      <td>315</td>\n",
       "    </tr>\n",
       "    <tr>\n",
       "      <th>4</th>\n",
       "      <td>chr10</td>\n",
       "      <td>100907173</td>\n",
       "      <td>100907280</td>\n",
       "      <td>ENSG00000222072.1</td>\n",
       "      <td>.</td>\n",
       "      <td>-</td>\n",
       "      <td>misc_RNA</td>\n",
       "      <td>107</td>\n",
       "    </tr>\n",
       "  </tbody>\n",
       "</table>\n",
       "</div>"
      ],
      "text/plain": [
       "   chrom      start        end            gene_id score strand   biotype  \\\n",
       "0  chr10  100237155  100237302  ENSG00000212464.1     .      -    snoRNA   \n",
       "1  chr10  100258570  100258677  ENSG00000207362.1     .      +     snRNA   \n",
       "2  chr10  100398351  100398446  ENSG00000212325.1     .      -  misc_RNA   \n",
       "3  chr10  100666694  100667009  ENSG00000274660.1     .      -  misc_RNA   \n",
       "4  chr10  100907173  100907280  ENSG00000222072.1     .      -  misc_RNA   \n",
       "\n",
       "   length  \n",
       "0     147  \n",
       "1     107  \n",
       "2      95  \n",
       "3     315  \n",
       "4     107  "
      ]
     },
     "execution_count": 99,
     "metadata": {},
     "output_type": "execute_result"
    }
   ],
   "source": [
    "# add a column for gene length\n",
    "genes['length'] = genes['end'] - genes['start']\n",
    "genes.head()"
   ]
  },
  {
   "cell_type": "code",
   "execution_count": 101,
   "metadata": {},
   "outputs": [],
   "source": [
    "# save DataFrame to Excel file\n",
    "length_table.to_excel('data/length_table.xlsx')"
   ]
  },
  {
   "cell_type": "markdown",
   "metadata": {},
   "source": [
    "### Basic graphics and plotting: matplotlib\n",
    "URL: (https://matplotlib.org/contents.html)\n",
    "\n",
    "![matplotlib](assets/matplotlib.png)\n",
    "\n",
    "### Statistical data visualization: seaborn\n",
    "URL: (https://seaborn.pydata.org/)\n",
    "\n",
    "![seaborn](assets/seaborn.png)\n"
   ]
  },
  {
   "cell_type": "markdown",
   "metadata": {},
   "source": [
    "### Progress bar: tqdm\n",
    "URL: (https://pypi.python.org/pypi/tqdm)\n",
    "\n",
    "一个有用的计时工具，可以使用`pip`或者`conda`安装：\n",
    "\n",
    "```\n",
    "pip install tqdm\n",
    "```"
   ]
  },
  {
   "cell_type": "code",
   "execution_count": 109,
   "metadata": {},
   "outputs": [],
   "source": [
    "from tqdm import tqdm_notebook as tqdm\n",
    "from time import sleep"
   ]
  },
  {
   "cell_type": "code",
   "execution_count": 110,
   "metadata": {},
   "outputs": [
    {
     "data": {
      "application/vnd.jupyter.widget-view+json": {
       "model_id": "d2ac5950312048a3a9666dd9def00baf",
       "version_major": 2,
       "version_minor": 0
      },
      "text/html": [
       "<p>Failed to display Jupyter Widget of type <code>HBox</code>.</p>\n",
       "<p>\n",
       "  If you're reading this message in the Jupyter Notebook or JupyterLab Notebook, it may mean\n",
       "  that the widgets JavaScript is still loading. If this message persists, it\n",
       "  likely means that the widgets JavaScript library is either not installed or\n",
       "  not enabled. See the <a href=\"https://ipywidgets.readthedocs.io/en/stable/user_install.html\">Jupyter\n",
       "  Widgets Documentation</a> for setup instructions.\n",
       "</p>\n",
       "<p>\n",
       "  If you're reading this message in another frontend (for example, a static\n",
       "  rendering on GitHub or <a href=\"https://nbviewer.jupyter.org/\">NBViewer</a>),\n",
       "  it may mean that your frontend doesn't currently support widgets.\n",
       "</p>\n"
      ],
      "text/plain": [
       "HBox(children=(IntProgress(value=0, max=20), HTML(value='')))"
      ]
     },
     "metadata": {},
     "output_type": "display_data"
    },
    {
     "name": "stdout",
     "output_type": "stream",
     "text": [
      "\n"
     ]
    }
   ],
   "source": [
    "for i in tqdm(range(20)):\n",
    "    sleep(0.2)"
   ]
  },
  {
   "cell_type": "markdown",
   "metadata": {},
   "source": [
    "# 课外阅读\n",
    "- [Recommendation: Python tutorial by Shibinbin](https://shibinbin.gitbooks.io/bioinfomatics-training-program/content/python_basics.html#install_python)\n",
    "- [Python Tutorials](https://github.com/mGalarnyk/Python_Tutorials)\n",
    "- [廖雪峰python教程](https://www.liaoxuefeng.com/wiki/0014316089557264a6b348958f449949df42a6d3a2e542c000)"
   ]
  },
  {
   "cell_type": "markdown",
   "metadata": {},
   "source": [
    "# Homework\n",
    "- 在电脑上安装Anaconda，在jupyter notebook中运行本教程中的相关代码，观察输出"
   ]
  },
  {
   "cell_type": "code",
   "execution_count": null,
   "metadata": {},
   "outputs": [],
   "source": []
  }
 ],
 "metadata": {
  "hide_input": false,
  "kernelspec": {
   "display_name": "Python 3",
   "language": "python",
   "name": "python3"
  },
  "language_info": {
   "codemirror_mode": {
    "name": "ipython",
    "version": 3
   },
   "file_extension": ".py",
   "mimetype": "text/x-python",
   "name": "python",
   "nbconvert_exporter": "python",
   "pygments_lexer": "ipython3",
   "version": "3.6.4"
  },
  "toc": {
   "base_numbering": 1,
   "nav_menu": {},
   "number_sections": true,
   "sideBar": true,
   "skip_h1_title": false,
   "title_cell": "Table of Contents",
   "title_sidebar": "Contents",
   "toc_cell": false,
   "toc_position": {},
   "toc_section_display": true,
   "toc_window_display": false
  }
 },
 "nbformat": 4,
 "nbformat_minor": 2
}
